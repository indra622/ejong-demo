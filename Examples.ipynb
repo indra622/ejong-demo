{
 "cells": [
  {
   "cell_type": "markdown",
   "id": "c0bc23e3",
   "metadata": {},
   "source": [
    "# Demo 영상"
   ]
  },
  {
   "cell_type": "code",
   "execution_count": null,
   "id": "aa54627e",
   "metadata": {},
   "outputs": [],
   "source": [
    "from IPython.display import Video\n",
    "\n",
    "Video(\"input/input127.mp4\")"
   ]
  },
  {
   "cell_type": "markdown",
   "id": "ac9a5f20",
   "metadata": {},
   "source": [
    "# Preprocessing\n",
    "\n",
    "오디오 추출 및 sampling rate conversion\n",
    "\n",
    "원본 영상의 오디오 변환\n",
    "48k sampling rate의 mp3 파일 -> 16k sampling rate의 wav 파일로 변환\n"
   ]
  },
  {
   "cell_type": "code",
   "execution_count": null,
   "id": "79be749b",
   "metadata": {},
   "outputs": [],
   "source": []
  },
  {
   "cell_type": "markdown",
   "id": "9e1ae5fb",
   "metadata": {},
   "source": [
    "# ===================\n",
    "# AED (Audio Event Detection)\n",
    "\n",
    "전체 소리에서 특정 오디오 신호가 나오는 구간을 검출\n",
    "\n",
    "### Class (10개)\n",
    "\n",
    "아기 울음 소리 (baby), 자전거 벨 소리 (bicycle), 물 끓는 소리 (boiling), 차 경적 소리 (car), 차 지나가는 소리 (car passing), \n",
    "\n",
    "개 짖는 소리 (dog), 착암기 소리 (jackhammer), 문 노크 소리 (door), 비명 소리 (scream), 대화 소리 (speech) \n",
    "\n",
    "\n",
    "\n",
    "### 학습 데이터\n",
    "* BBCSoundFX dataset, YouTube, Urbansound Google Audio 등에서 데이터 수집 및 정제\n",
    "* Acoustic scene noise mixing 기반 data augmentation (TAU Urban Acoustic Scenes 2020 Dataset)\n",
    "\n",
    "### 인식 구간\n",
    "\n",
    "에너지 기반의 무음 구간 제거 및 프레임 단위의 오디오 데이터 정제 \n",
    "\n",
    "0.4초 window length, 0.1초 time shift"
   ]
  },
  {
   "cell_type": "code",
   "execution_count": null,
   "id": "c2e1724c",
   "metadata": {},
   "outputs": [],
   "source": [
    "!python run_aed.py input/input127.mp4"
   ]
  },
  {
   "cell_type": "markdown",
   "id": "62d6f46c",
   "metadata": {},
   "source": [
    "# ===================\n",
    "# ASC (Audio Scene Classification)\n",
    "\n",
    "소리를 통해 장소를 분류\n",
    "\n",
    "### Class (3개)\n",
    "\n",
    "실내(Indoor), 실외 (Outdoor), 교통 수단 (Transportation)\n",
    "\n",
    "### 학습 데이터\n",
    "\n",
    "6개 유럽 도시에서 녹음한 장소에 대한 데이터\n",
    "\n",
    "TAU Urban Acoustic Scenes 2020 3Class\n",
    "\n",
    "### 인식 구간\n",
    "\n",
    "파일의 오디오를 1초 구간으로 나누어 1초에 대한 scene class를 출력함"
   ]
  },
  {
   "cell_type": "code",
   "execution_count": null,
   "id": "4b253b5b",
   "metadata": {},
   "outputs": [],
   "source": [
    "!python run_asc.py input/input127.mp4"
   ]
  },
  {
   "cell_type": "markdown",
   "id": "9e42a2c2",
   "metadata": {},
   "source": [
    "# ===================\n",
    "# ASR (Automatic Speech Recognition)\n",
    "\n",
    "음성인식기\n"
   ]
  },
  {
   "cell_type": "code",
   "execution_count": null,
   "id": "6e4a2661",
   "metadata": {},
   "outputs": [],
   "source": [
    "!python run_asr.py input/input127.mp4"
   ]
  }
 ],
 "metadata": {
  "kernelspec": {
   "display_name": "Python 3 (ipykernel)",
   "language": "python",
   "name": "python3"
  },
  "language_info": {
   "codemirror_mode": {
    "name": "ipython",
    "version": 3
   },
   "file_extension": ".py",
   "mimetype": "text/x-python",
   "name": "python",
   "nbconvert_exporter": "python",
   "pygments_lexer": "ipython3",
   "version": "3.8.3"
  }
 },
 "nbformat": 4,
 "nbformat_minor": 5
}
